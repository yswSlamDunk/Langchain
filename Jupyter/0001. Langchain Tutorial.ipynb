{
 "cells": [
  {
   "cell_type": "code",
   "execution_count": 1,
   "metadata": {},
   "outputs": [],
   "source": [
    "from langchain_community.llms import Ollama\n",
    "llm = Ollama(model=\"llama2\")"
   ]
  },
  {
   "cell_type": "code",
   "execution_count": 2,
   "metadata": {},
   "outputs": [],
   "source": [
    "from langchain_core.prompts import ChatPromptTemplate\n",
    "prompt = ChatPromptTemplate.from_messages([\n",
    "    (\"system\", \"You are world's best consultant helping new startups improve their business models.\"),\n",
    "    (\"user\", \"{input}\")\n",
    "])"
   ]
  },
  {
   "cell_type": "code",
   "execution_count": 3,
   "metadata": {},
   "outputs": [],
   "source": [
    "chain = prompt | llm"
   ]
  },
  {
   "cell_type": "code",
   "execution_count": 4,
   "metadata": {},
   "outputs": [
    {
     "data": {
      "text/plain": [
       "\"\\nBusiness Model Canvas for Your Startup:\\n\\n1. Value Proposition: Offer a unique and personalized experience for foreign travelers looking to explore lesser-known attractions and hidden gems in Korea. Provide high-quality content on YouTube, create immersive travel courses, and offer practical travel guides to help visitors navigate the places they discover through your videos.\\n2. Customer Segments: Target adventurous and culturally curious foreign travelers who are looking for off-the-beaten-path experiences in Korea. Identify specific segments, such as solo travelers, couples, or families, to tailor your content and services accordingly.\\n3. Channels: Utilize social media platforms like YouTube, Instagram, and Facebook to reach your target audience. Leverage influencer marketing by partnering with popular Korean YouTubers or bloggers who share your passion for hidden gems. Offer exclusive travel packages and experiences to further attract potential customers.\\n4. Customer Relationships: Foster strong relationships with your customers through engaging content, personalized recommendations, and responsive customer service. Encourage user-generated content by hosting contests or photo competitions, fostering a sense of community among your followers.\\n5. Revenue Streams: Generate revenue through the following streams:\\n\\na. YouTube Advertising: Monetize your videos through ad placements, sponsored content, and affiliate marketing.\\n\\nb. Travel Courses: Offer premium courses with additional content, exclusive interviews, or special access to hidden gems. Charge a one-time or recurring fee for these courses.\\n\\nc. Travel Products: Sell travel guides, maps, and other resources to help visitors navigate Korea's lesser-known attractions. Offer bundle deals for multiple products at a discounted price.\\n\\nd. Sponsored Content: Partner with relevant businesses (e.g., local restaurants, cafes, or tour operators) to showcase their services in your videos or travel courses.\\n6. Cost Structure: Identify and manage the following costs:\\n\\na. Production Costs: Equipment, software, and personnel expenses for creating high-quality video content.\\n\\nb. Marketing Expenses: Social media advertising, influencer partnerships, and event sponsorships.\\n\\nc. Content Creation Costs: Salaries or contracts for writers, researchers, and editors involved in creating travel guides and courses.\\n\\nd. Technology Costs: Software, hosting, and maintenance fees for managing your online presence and distribution channels.\\n7. Value Proposition Design: To improve operating profit, consider the following enhancements to your value proposition:\\n\\na. Diversify Revenue Streams: Explore new revenue streams beyond YouTube advertising, travel courses, and products. For example, you could create a subscription-based service for exclusive content or offer experience-based services like private tours or local event hosting.\\n\\nb. Optimize Pricing Strategies: Analyze your pricing structure to ensure it accurately reflects the value proposition of your business. Consider offering tiered pricing based on the level of service provided, or experimenting with dynamic pricing models that adjust based on demand and competition.\\n\\nc. Improve Efficiency: Streamline production processes to reduce costs and increase productivity. Utilize automation tools for content creation, editing, and distribution to minimize labor-intensive tasks.\\n\\nd. Leverage Partnerships: Foster stronger partnerships with local businesses, cultural institutions, or government organizations to access new resources, opportunities, and audiences. Collaborate on co-branded content, events, or marketing campaigns to expand your reach and credibility.\\n8. Cost Structure Optimization: Identify areas where cost reductions can be made without compromising quality or service. Consider the following strategies:\\n\\na. Outsource Non-Core Activities: Contract out non-core activities like content creation, editing, or marketing to specialized providers, reducing labor and overhead costs.\\n\\nb. Negotiate Better Deals: Leverage your scale and reputation to negotiate better deals with suppliers, vendors, or partners.\\n\\nc. Implement Cost-Saving Technologies: Utilize automation tools, cloud-based services, or other cost-saving technologies to minimize expenses related to software, hardware, or infrastructure.\\n9. Performance Metrics: Track and analyze the following metrics to evaluate your business model's performance:\\n\\na. Revenue Growth Rate\\n\\nb. Customer Acquisition Costs\\n\\nc. Customer Retention Rate\\n\\nd. Average Order Value (AOV) or Average Revenue Per User (ARPU)\\n\\ne. Return on Investment (ROI) for marketing and advertising expenses\\n\\nBy understanding these metrics, you can make informed decisions about your business model's performance and identify areas for improvement to increase operating profit.\""
      ]
     },
     "execution_count": 4,
     "metadata": {},
     "output_type": "execute_result"
    }
   ],
   "source": [
    "chain.invoke({'input' : \"I am running a startup that creates YouTube videos about Korea's hidden attractions and places, creates travel courses based on the videos, and sells travel products to foreigners that guide them to the places in the videos. Please organize the business model for my business into the business canvas concept and tell me what improvements I can make in relation to increasing operating profit.\"})"
   ]
  },
  {
   "cell_type": "code",
   "execution_count": 5,
   "metadata": {},
   "outputs": [],
   "source": [
    "from langchain_core.output_parsers import StrOutputParser\n",
    "\n",
    "output_parser = StrOutputParser()"
   ]
  },
  {
   "cell_type": "code",
   "execution_count": 6,
   "metadata": {},
   "outputs": [
    {
     "data": {
      "text/plain": [
       "\"\\nAh, an excellent question! As a top consultant, I must say that Langsmith can be incredibly helpful when it comes to testing your startup's business model. Here are some ways in which we can assist you:\\n\\n1. Identifying potential pain points: Through our expert analysis and research, we can help identify areas of your business model that may be vulnerable to risk or have the potential for improvement.\\n2. Developing hypotheses: Based on our findings, we can work with you to develop specific hypotheses about how different variables in your business model could impact its performance.\\n3. Designing experiments: Using our knowledge of statistics and experimental design, we can help you design and execute experiments that will allow you to test these hypotheses in a controlled environment.\\n4. Analyzing results: Once the experiments are complete, we can work with you to analyze the results and determine whether your hypotheses were correct or not. If they weren't, we can help you identify why and suggest alternative approaches.\\n5. Optimizing your business model: Based on the insights gained from testing, we can help you optimize your business model to improve its performance and achieve better outcomes.\\n\\nBy working together with Langsmith, you can gain a deeper understanding of how your business model works, identify areas for improvement, and make data-driven decisions to drive growth and success. So, are you ready to get started on this exciting journey of testing and optimization? 😊\""
      ]
     },
     "execution_count": 6,
     "metadata": {},
     "output_type": "execute_result"
    }
   ],
   "source": [
    "chain = prompt | llm | output_parser\n",
    "\n",
    "chain.invoke({\"input\": \"how can langsmith help with testing?\"})"
   ]
  },
  {
   "cell_type": "code",
   "execution_count": 7,
   "metadata": {},
   "outputs": [],
   "source": [
    "from langchain_community.document_loaders import WebBaseLoader\n",
    "loader = WebBaseLoader(\"https://docs.smith.langchain.com/user_guide\")\n",
    "\n",
    "docs = loader.load()"
   ]
  },
  {
   "cell_type": "code",
   "execution_count": 8,
   "metadata": {},
   "outputs": [],
   "source": [
    "from langchain_community.embeddings import OllamaEmbeddings\n",
    "\n",
    "embeddings = OllamaEmbeddings()"
   ]
  },
  {
   "cell_type": "code",
   "execution_count": 10,
   "metadata": {},
   "outputs": [],
   "source": [
    "from langchain_community.vectorstores import FAISS\n",
    "from langchain_text_splitters import RecursiveCharacterTextSplitter\n",
    "\n",
    "\n",
    "text_splitter = RecursiveCharacterTextSplitter()\n",
    "documents = text_splitter.split_documents(docs)\n",
    "vector = FAISS.from_documents(documents, embeddings)"
   ]
  },
  {
   "cell_type": "code",
   "execution_count": 11,
   "metadata": {},
   "outputs": [
    {
     "data": {
      "text/plain": [
       "[Document(page_content='LangSmith User Guide | 🦜️🛠️ LangSmith', metadata={'source': 'https://docs.smith.langchain.com/user_guide', 'title': 'LangSmith User Guide | 🦜️🛠️ LangSmith', 'description': 'LangSmith is a platform for LLM application development, monitoring, and testing. In this guide, we’ll highlight the breadth of workflows LangSmith supports and how they fit into each stage of the application development lifecycle. We hope this will inform users how to best utilize this powerful platform or give them something to consider if they’re just starting their journey.', 'language': 'en'}),\n",
       " Document(page_content='Skip to main content🦜️🛠️ LangSmith DocsLangChain Python DocsLangChain JS/TS DocsLangSmith API DocsSearchGo to AppLangSmithUser GuideSetupPricing (Coming Soon)Self-HostingTracingEvaluationMonitoringPrompt HubProxyCookbookUser GuideOn this pageLangSmith User GuideLangSmith is a platform for LLM application development, monitoring, and testing. In this guide, we’ll highlight the breadth of workflows LangSmith supports and how they fit into each stage of the application development lifecycle. We hope this will inform users how to best utilize this powerful platform or give them something to consider if they’re just starting their journey.Prototyping\\u200bPrototyping LLM applications often involves quick experimentation between prompts, model types, retrieval strategy and other parameters.\\nThe ability to rapidly understand how the model is performing — and debug where it is failing — is incredibly important for this phase.Debugging\\u200bWhen developing new LLM applications, we suggest having LangSmith tracing enabled by default.\\nOftentimes, it isn’t necessary to look at every single trace. However, when things go wrong (an unexpected end result, infinite agent loop, slower than expected execution, higher than expected token usage), it’s extremely helpful to debug by looking through the application traces. LangSmith gives clear visibility and debugging information at each step of an LLM sequence, making it much easier to identify and root-cause issues.\\nWe provide native rendering of chat messages, functions, and retrieve documents.Initial Test Set\\u200bWhile many developers still ship an initial version of their application based on “vibe checks”, we’ve seen an increasing number of engineering teams start to adopt a more test driven approach. LangSmith allows developers to create datasets, which are collections of inputs and reference outputs, and use these to run tests on their LLM applications.\\nThese test cases can be uploaded in bulk, created on the fly, or exported from application traces. LangSmith also makes it easy to run custom evaluations (both LLM and heuristic based) to score test results.Comparison View\\u200bWhen prototyping different versions of your applications and making changes, it’s important to see whether or not you’ve regressed with respect to your initial test cases.\\nOftentimes, changes in the prompt, retrieval strategy, or model choice can have huge implications in responses produced by your application.\\nIn order to get a sense for which variant is performing better, it’s useful to be able to view results for different configurations on the same datapoints side-by-side. We’ve invested heavily in a user-friendly comparison view for test runs to track and diagnose regressions in test scores across multiple revisions of your application.Playground\\u200bLangSmith provides a playground environment for rapid iteration and experimentation.\\nThis allows you to quickly test out different prompts and models. You can open the playground from any prompt or model run in your trace.', metadata={'source': 'https://docs.smith.langchain.com/user_guide', 'title': 'LangSmith User Guide | 🦜️🛠️ LangSmith', 'description': 'LangSmith is a platform for LLM application development, monitoring, and testing. In this guide, we’ll highlight the breadth of workflows LangSmith supports and how they fit into each stage of the application development lifecycle. We hope this will inform users how to best utilize this powerful platform or give them something to consider if they’re just starting their journey.', 'language': 'en'}),\n",
       " Document(page_content=\"This allows you to quickly test out different prompts and models. You can open the playground from any prompt or model run in your trace.\\nEvery playground run is logged in the system and can be used to create test cases or compare with other runs.Beta Testing\\u200bBeta testing allows developers to collect more data on how their LLM applications are performing in real-world scenarios. In this phase, it’s important to develop an understanding for the types of inputs the app is performing well or poorly on and how exactly it’s breaking down in those cases. Both feedback collection and run annotation are critical for this workflow. This will help in curation of test cases that can help track regressions/improvements and development of automatic evaluations.Capturing Feedback\\u200bWhen launching your application to an initial set of users, it’s important to gather human feedback on the responses it’s producing. This helps draw attention to the most interesting runs and highlight edge cases that are causing problematic responses. LangSmith allows you to attach feedback scores to logged traces (oftentimes, this is hooked up to a feedback button in your app), then filter on traces that have a specific feedback tag and score. A common workflow is to filter on traces that receive a poor user feedback score, then drill down into problematic points using the detailed trace view.Annotating Traces\\u200bLangSmith also supports sending runs to annotation queues, which allow annotators to closely inspect interesting traces and annotate them with respect to different criteria. Annotators can be PMs, engineers, or even subject matter experts. This allows users to catch regressions across important evaluation criteria.Adding Runs to a Dataset\\u200bAs your application progresses through the beta testing phase, it's essential to continue collecting data to refine and improve its performance. LangSmith enables you to add runs as examples to datasets (from both the project page and within an annotation queue), expanding your test coverage on real-world scenarios. This is a key benefit in having your logging system and your evaluation/testing system in the same platform.Production\\u200bClosely inspecting key data points, growing benchmarking datasets, annotating traces, and drilling down into important data in trace view are workflows you’ll also want to do once your app hits production. However, especially at the production stage, it’s crucial to get a high-level overview of application performance with respect to latency, cost, and feedback scores. This ensures that it's delivering desirable results at scale.Monitoring and A/B Testing\\u200bLangSmith provides monitoring charts that allow you to track key metrics over time. You can expand to view metrics for a given period and drill down into a specific data point to get a trace table for that time period — this is especially handy for debugging production issues.LangSmith also allows for tag and metadata grouping, which allows users to mark different versions of their applications with different identifiers and view how they are performing side-by-side within each chart. This is helpful for A/B testing changes in prompt, model, or retrieval strategy.Was this page helpful?PreviousLangSmithNextSetupPrototypingBeta TestingProductionCommunityDiscordTwitterGitHubDocs CodeLangSmith SDKPythonJS/TSMoreHomepageBlogCopyright © 2024 LangChain, Inc.\", metadata={'source': 'https://docs.smith.langchain.com/user_guide', 'title': 'LangSmith User Guide | 🦜️🛠️ LangSmith', 'description': 'LangSmith is a platform for LLM application development, monitoring, and testing. In this guide, we’ll highlight the breadth of workflows LangSmith supports and how they fit into each stage of the application development lifecycle. We hope this will inform users how to best utilize this powerful platform or give them something to consider if they’re just starting their journey.', 'language': 'en'})]"
      ]
     },
     "execution_count": 11,
     "metadata": {},
     "output_type": "execute_result"
    }
   ],
   "source": [
    "documents"
   ]
  },
  {
   "cell_type": "code",
   "execution_count": 13,
   "metadata": {},
   "outputs": [],
   "source": [
    "from langchain.chains.combine_documents import create_stuff_documents_chain\n",
    "\n",
    "prompt = ChatPromptTemplate.from_template(\"\"\"Answer the following question based only on the provided context:\n",
    "\n",
    "<context>\n",
    "{context}\n",
    "</context>\n",
    "\n",
    "Question: {input}\"\"\")\n",
    "\n",
    "document_chain = create_stuff_documents_chain(llm, prompt)"
   ]
  },
  {
   "cell_type": "code",
   "execution_count": 14,
   "metadata": {},
   "outputs": [
    {
     "data": {
      "text/plain": [
       "'\\nBased on the provided context, Langsmith can help with testing by allowing users to visualize their test results. This means that Langsmith provides a tool for viewing and analyzing the outcomes of tests, which can be useful for understanding the performance of a system or application under test.'"
      ]
     },
     "execution_count": 14,
     "metadata": {},
     "output_type": "execute_result"
    }
   ],
   "source": [
    "from langchain_core.documents import Document\n",
    "\n",
    "document_chain.invoke({\n",
    "    \"input\": \"how can langsmith help with testing?\",\n",
    "    \"context\": [Document(page_content=\"langsmith can let you visualize test results\")]\n",
    "})"
   ]
  },
  {
   "cell_type": "code",
   "execution_count": 15,
   "metadata": {},
   "outputs": [],
   "source": [
    "from langchain.chains import create_retrieval_chain\n",
    "\n",
    "retriever = vector.as_retriever()\n",
    "retrieval_chain = create_retrieval_chain(retriever, document_chain)"
   ]
  },
  {
   "cell_type": "code",
   "execution_count": 16,
   "metadata": {},
   "outputs": [
    {
     "name": "stdout",
     "output_type": "stream",
     "text": [
      "\n",
      "Based on the provided context, LangSmth can help with testing in several ways:\n",
      "\n",
      "1. Debugging: LangSmth provides native rendering of chat messages, functions, and retrieve documents, making it easier to debug and identify issues in LLM applications.\n",
      "2. Testing: LangSmth allows developers to create datasets, which are collections of inputs and reference outputs, and use these to run tests on their LLM applications. These test cases can be uploaded in bulk, created on the fly, or exported from application traces.\n",
      "3. Comparison view: LangSmth provides a user-friendly comparison view for test runs to track and diagnose regressions in test scores across multiple revisions of an application.\n",
      "4. Beta testing: LangSmth allows developers to collect more data on how their LLM applications are performing in real-world scenarios, which helps in developing an understanding of the types of inputs the app is performing well or poorly on and how exactly it’s breaking down in those cases.\n",
      "5. Annotating traces: LangSmth supports sending runs to annotation queues, which allow annotators to closely inspect interesting traces and annotate them with respect to different criteria.\n",
      "6. Adding runs to a dataset: As the application progresses through the beta testing phase, LangSmth enables users to add runs as examples to datasets, expanding test coverage on real-world scenarios.\n"
     ]
    }
   ],
   "source": [
    "response = retrieval_chain.invoke({\"input\": \"how can langsmith help with testing?\"})\n",
    "print(response[\"answer\"])"
   ]
  },
  {
   "cell_type": "code",
   "execution_count": null,
   "metadata": {},
   "outputs": [],
   "source": []
  }
 ],
 "metadata": {
  "kernelspec": {
   "display_name": "Langchain",
   "language": "python",
   "name": "python3"
  },
  "language_info": {
   "codemirror_mode": {
    "name": "ipython",
    "version": 3
   },
   "file_extension": ".py",
   "mimetype": "text/x-python",
   "name": "python",
   "nbconvert_exporter": "python",
   "pygments_lexer": "ipython3",
   "version": "3.11.8"
  }
 },
 "nbformat": 4,
 "nbformat_minor": 2
}
